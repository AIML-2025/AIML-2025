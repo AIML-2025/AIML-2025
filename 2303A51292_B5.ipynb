{
  "nbformat": 4,
  "nbformat_minor": 0,
  "metadata": {
    "colab": {
      "provenance": [],
      "authorship_tag": "ABX9TyM04FdXg1whbtKH+4XIN2km",
      "include_colab_link": true
    },
    "kernelspec": {
      "name": "python3",
      "display_name": "Python 3"
    },
    "language_info": {
      "name": "python"
    }
  },
  "cells": [
    {
      "cell_type": "markdown",
      "metadata": {
        "id": "view-in-github",
        "colab_type": "text"
      },
      "source": [
        "<a href=\"https://colab.research.google.com/github/Chaithu1414/AIML-2025/blob/main/2303A51292_B5.ipynb\" target=\"_parent\"><img src=\"https://colab.research.google.com/assets/colab-badge.svg\" alt=\"Open In Colab\"/></a>"
      ]
    },
    {
      "cell_type": "markdown",
      "source": [
        "prediction the role of specific drugs on patients using drug reviews(drugs.com)\n",
        "\n",
        "1.identify the top 5 reasons for drug usage\n"
      ],
      "metadata": {
        "id": "kZFy8Qg6x1ZR"
      }
    },
    {
      "cell_type": "code",
      "source": [
        "import pandas as pd\n",
        "\n",
        "df = pd.read_csv('/content/loan_data.csv')\n",
        "print(df.columns)\n",
        "top_reasons = df['purpose'].value_counts().head(5)\n",
        "print(\"Top 5 reasons for drug usage:\")\n",
        "print(top_reasons)"
      ],
      "metadata": {
        "colab": {
          "base_uri": "https://localhost:8080/"
        },
        "id": "bcLOMOSQvHFV",
        "outputId": "2f7cb7f2-aa81-486f-b643-f6a73c387c6b"
      },
      "execution_count": 2,
      "outputs": [
        {
          "output_type": "stream",
          "name": "stdout",
          "text": [
            "Index(['credit.policy', 'purpose', 'int.rate', 'installment', 'log.annual.inc',\n",
            "       'dti', 'fico', 'days.with.cr.line', 'revol.bal', 'revol.util',\n",
            "       'inq.last.6mths', 'delinq.2yrs', 'pub.rec', 'not.fully.paid'],\n",
            "      dtype='object')\n",
            "Top 5 reasons for drug usage:\n",
            "purpose\n",
            "debt_consolidation    3957\n",
            "all_other             2331\n",
            "credit_card           1262\n",
            "home_improvement       629\n",
            "small_business         619\n",
            "Name: count, dtype: int64\n"
          ]
        }
      ]
    },
    {
      "cell_type": "markdown",
      "source": [
        "2.identify the condition with most usage of drugs\n"
      ],
      "metadata": {
        "id": "OgDn6rbDyBp8"
      }
    },
    {
      "cell_type": "code",
      "source": [
        "import pandas as pd\n",
        "print(df.columns)\n",
        "purpose_col = next((col for col in df.columns if 'purpose' in col), None)\n",
        "if purpose_col:\n",
        "    most_common_purpose = df[purpose_col].value_counts().idxmax()\n",
        "    print(f\"Most common purpose of loan: {most_common_purpose}\")\n",
        "else:\n",
        "    print(\"No column related to 'purpose' found in the DataFrame.\")"
      ],
      "metadata": {
        "colab": {
          "base_uri": "https://localhost:8080/"
        },
        "id": "u20B8Uzmvk7-",
        "outputId": "4bc660fb-5be7-4bcb-86f9-f2168b1c2e6e"
      },
      "execution_count": 6,
      "outputs": [
        {
          "output_type": "stream",
          "name": "stdout",
          "text": [
            "Index(['credit.policy', 'purpose', 'int.rate', 'installment', 'log.annual.inc',\n",
            "       'dti', 'fico', 'days.with.cr.line', 'revol.bal', 'revol.util',\n",
            "       'inq.last.6mths', 'delinq.2yrs', 'pub.rec', 'not.fully.paid'],\n",
            "      dtype='object')\n",
            "Most common purpose of loan: debt_consolidation\n"
          ]
        }
      ]
    },
    {
      "cell_type": "markdown",
      "source": [
        "3.find the max and min count of users who found the drug review useful\n"
      ],
      "metadata": {
        "id": "sbsUWvaryIFV"
      }
    },
    {
      "cell_type": "code",
      "source": [
        "if 'usefulCount' in df.columns:\n",
        "    max_useful = df['usefulCount'].max()\n",
        "    min_useful = df['usefulCount'].min()\n",
        "    print(f\"Max useful count: {max_useful}\")\n",
        "    print(f\"Min useful count: {min_useful}\")\n",
        "else:\n",
        "    print(\"Column 'usefulCount' not found in the DataFrame. Check the column name.\")"
      ],
      "metadata": {
        "colab": {
          "base_uri": "https://localhost:8080/"
        },
        "id": "H4HMethcv3bn",
        "outputId": "163c753f-22de-4c9d-9b94-79ec8004cef1"
      },
      "execution_count": 8,
      "outputs": [
        {
          "output_type": "stream",
          "name": "stdout",
          "text": [
            "Column 'usefulCount' not found in the DataFrame. Check the column name.\n"
          ]
        }
      ]
    },
    {
      "cell_type": "markdown",
      "source": [
        "4.name the drug most used according to drug reviews\n"
      ],
      "metadata": {
        "id": "DujpFY4HyQ_7"
      }
    },
    {
      "cell_type": "code",
      "source": [
        "drug_name_col = next((col for col in df.columns if 'drug' in col.lower()), None)\n",
        "if drug_name_col:\n",
        "    most_used_drug = df[drug_name_col].value_counts().idxmax()\n",
        "    print(f\"Most used drug: {most_used_drug}\")"
      ],
      "metadata": {
        "id": "8xHx4ecnwD43"
      },
      "execution_count": 12,
      "outputs": []
    },
    {
      "cell_type": "markdown",
      "source": [
        "5.identify the max count of 10 star rating of the drug reviews.\n"
      ],
      "metadata": {
        "id": "vlwhJwIOySvH"
      }
    },
    {
      "cell_type": "code",
      "source": [
        "print(df.columns)\n",
        "try:\n",
        "    max_10_star_count = df[df['int_rate'] == 10].shape[0]\n",
        "except KeyError:\n",
        "    print(\"Column 'int_rate' not found in the DataFrame. Check the column name in your data.\")"
      ],
      "metadata": {
        "colab": {
          "base_uri": "https://localhost:8080/"
        },
        "id": "iLo71bZNwxn4",
        "outputId": "8fcbab6f-f27a-4b7f-f902-2430cc3f8cbf"
      },
      "execution_count": 19,
      "outputs": [
        {
          "output_type": "stream",
          "name": "stdout",
          "text": [
            "Index(['credit.policy', 'purpose', 'int.rate', 'installment', 'log.annual.inc',\n",
            "       'dti', 'fico', 'days.with.cr.line', 'revol.bal', 'revol.util',\n",
            "       'inq.last.6mths', 'delinq.2yrs', 'pub.rec', 'not.fully.paid'],\n",
            "      dtype='object')\n",
            "Column 'int_rate' not found in the DataFrame. Check the column name in your data.\n"
          ]
        }
      ]
    },
    {
      "cell_type": "markdown",
      "source": [
        "6.apply either classification model or clustering model to evaluate the dataset"
      ],
      "metadata": {
        "id": "ZfHMhLdAyZl6"
      }
    },
    {
      "cell_type": "code",
      "source": [
        "!pip install scikit-learn\n",
        "import pandas as pd\n",
        "from sklearn.model_selection import train_test_split\n",
        "from sklearn.linear_model import LogisticRegression\n",
        "from sklearn.metrics import accuracy_score, classification_report\n",
        "X = df.drop('credit.policy', axis=1)\n",
        "y = df['credit.policy']\n",
        "X = X.select_dtypes(include=['number'])\n",
        "X_train, X_test, y_train, y_test = train_test_split(X, y, test_size=0.2, random_state=42)\n",
        "\n"
      ],
      "metadata": {
        "colab": {
          "base_uri": "https://localhost:8080/"
        },
        "id": "SS5K43fzyhLI",
        "outputId": "c3520b0a-bf0c-4fb5-b75e-5cfc8427f1f8"
      },
      "execution_count": 30,
      "outputs": [
        {
          "output_type": "stream",
          "name": "stdout",
          "text": [
            "Requirement already satisfied: scikit-learn in /usr/local/lib/python3.10/dist-packages (1.5.2)\n",
            "Requirement already satisfied: numpy>=1.19.5 in /usr/local/lib/python3.10/dist-packages (from scikit-learn) (1.26.4)\n",
            "Requirement already satisfied: scipy>=1.6.0 in /usr/local/lib/python3.10/dist-packages (from scikit-learn) (1.13.1)\n",
            "Requirement already satisfied: joblib>=1.2.0 in /usr/local/lib/python3.10/dist-packages (from scikit-learn) (1.4.2)\n",
            "Requirement already satisfied: threadpoolctl>=3.1.0 in /usr/local/lib/python3.10/dist-packages (from scikit-learn) (3.5.0)\n"
          ]
        }
      ]
    }
  ]
}